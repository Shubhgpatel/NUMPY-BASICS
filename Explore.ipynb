{
 "cells": [
  {
   "cell_type": "markdown",
   "metadata": {},
   "source": [
    "# Keyboard Shortcuts \n",
    "\n",
    "### Press a to add new cell above the existing cell\n",
    "### Press b to add new cell below the existing cell\n",
    "\n",
    "### Press m to convert that cell into markdown cell\n",
    "### Press y to convert that cell into code cell \n",
    "\n",
    "### Press esc to go back so that you can apply keyboard shortcuts to that cell \n",
    "### Press esc arrow keys to go up or down in the cell\n",
    "### Press dd to delete the cell"
   ]
  },
  {
   "cell_type": "code",
   "execution_count": 2,
   "metadata": {},
   "outputs": [
    {
     "name": "stdout",
     "output_type": "stream",
     "text": [
      "Hello World\n"
     ]
    }
   ],
   "source": [
    "print(\"Hello World\")"
   ]
  }
 ],
 "metadata": {
  "kernelspec": {
   "display_name": "myvenv",
   "language": "python",
   "name": "python3"
  },
  "language_info": {
   "codemirror_mode": {
    "name": "ipython",
    "version": 3
   },
   "file_extension": ".py",
   "mimetype": "text/x-python",
   "name": "python",
   "nbconvert_exporter": "python",
   "pygments_lexer": "ipython3",
   "version": "3.13.2"
  }
 },
 "nbformat": 4,
 "nbformat_minor": 2
}
