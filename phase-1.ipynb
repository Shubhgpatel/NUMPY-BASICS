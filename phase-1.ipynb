{
 "cells": [
  {
   "cell_type": "markdown",
   "metadata": {},
   "source": [
    "## Numpy array and basics\n"
   ]
  },
  {
   "cell_type": "code",
   "execution_count": 2,
   "metadata": {},
   "outputs": [],
   "source": [
    "import numpy as np"
   ]
  },
  {
   "cell_type": "markdown",
   "metadata": {},
   "source": [
    "### Creating array using list"
   ]
  },
  {
   "cell_type": "code",
   "execution_count": 16,
   "metadata": {},
   "outputs": [
    {
     "name": "stdout",
     "output_type": "stream",
     "text": [
      "[1 2 3]\n",
      "[[1 2 3]\n",
      " [4 5 6]]\n"
     ]
    }
   ],
   "source": [
    "arr_1d = np.array([1,2,3])\n",
    "print(arr_1d)\n",
    "arr_2d = np.array([[1,2,3],[4,5,6]])\n",
    "print(arr_2d)"
   ]
  },
  {
   "cell_type": "markdown",
   "metadata": {},
   "source": [
    "### Numpy vs List"
   ]
  },
  {
   "cell_type": "code",
   "execution_count": 12,
   "metadata": {},
   "outputs": [
    {
     "name": "stdout",
     "output_type": "stream",
     "text": [
      "List Multiplication : [1, 2, 3, 1, 2, 3]\n",
      "Array Multiplication : [ 8 10 12]\n",
      "\n",
      " List operation time :  0.022588014602661133\n",
      "\n",
      " Numpy operation time :  0.0015430450439453125\n",
      "[ 0  1  2  3  4  5  6  7  8  9 10 11 12 13 14 15 16 17 18 19 20 21 22 23\n",
      " 24 25 26 27 28 29 30 31 32 33 34 35 36 37 38 39 40 41 42 43 44 45 46 47\n",
      " 48 49]\n"
     ]
    }
   ],
   "source": [
    "l1 = [1,2,3]\n",
    "print(\"List Multiplication :\",l1 * 2)\n",
    "\n",
    "arr = np.array([4,5,6])\n",
    "print(\"Array Multiplication :\",arr * 2)\n",
    "\n",
    "import time\n",
    "start = time.time()\n",
    "l1 = [i*2 for i in range(1000000)]\n",
    "print(\"\\n List operation time : \", time.time() - start)\n",
    "\n",
    "start = time.time()\n",
    "arr = np.arange(1000000) * 2 # arange is the function is used to generate evenly spaced values within a given range.\n",
    "print(\"\\n Numpy operation time : \", time.time() - start)\n",
    "\n",
    "arr = np.arange(50)\n",
    "print(arr)\n",
    "\n",
    "\n",
    "\n"
   ]
  },
  {
   "cell_type": "markdown",
   "metadata": {},
   "source": [
    "### Creating array from scratch "
   ]
  },
  {
   "cell_type": "code",
   "execution_count": 24,
   "metadata": {},
   "outputs": [
    {
     "name": "stdout",
     "output_type": "stream",
     "text": [
      "Zeros Array :\n",
      " [[0. 0. 0.]\n",
      " [0. 0. 0.]]\n",
      "Ones Array :\n",
      " [[1. 1. 1.]\n",
      " [1. 1. 1.]]\n",
      "full Array :\n",
      " [[5 5 5]\n",
      " [5 5 5]]\n",
      "Random Array :\n",
      " [[0.34983978 0.96296217 0.29775123]\n",
      " [0.90104105 0.42631297 0.0508989 ]]\n",
      "Sequence Array :\n",
      " [0 2 4 6 8]\n"
     ]
    }
   ],
   "source": [
    "zeros = np.zeros((2,3))\n",
    "print(\"Zeros Array :\\n\",zeros)\n",
    "\n",
    "ones = np.ones((2,3))\n",
    "print(\"Ones Array :\\n\",ones)\n",
    "\n",
    "full = np.full((2,3),5)\n",
    "print(\"full Array :\\n\",full)\n",
    "\n",
    "random = np.random.random((2,3))\n",
    "print(\"Random Array :\\n\",random)\n",
    "\n",
    "sequence = np.arange(0,10,2)\n",
    "print(\"Sequence Array :\\n\",sequence)\n"
   ]
  },
  {
   "cell_type": "markdown",
   "metadata": {},
   "source": [
    "### Vector, Matrix and Tensor"
   ]
  },
  {
   "cell_type": "code",
   "execution_count": 36,
   "metadata": {},
   "outputs": [
    {
     "name": "stdout",
     "output_type": "stream",
     "text": [
      "Vector : [1 2 3]\n",
      "Matrix :\n",
      " [[1 2 3]\n",
      " [4 5 6]]\n",
      "Tensor :\n",
      " [[[1 2]\n",
      "  [3 4]]\n",
      "\n",
      " [[5 6]\n",
      "  [7 8]]]\n",
      "Dimensions :\n",
      " 3\n"
     ]
    }
   ],
   "source": [
    "vector = np.array([1,2,3])\n",
    "print(\"Vector :\",vector)\n",
    "\n",
    "matrix = np.array([[1,2,3],\n",
    "                   [4,5,6]])\n",
    "print(\"Matrix :\\n\",matrix)\n",
    "\n",
    "# when the dimensions increses then we called it as multidimensional array or tensor \n",
    "tensor = np.array([[[1,2],[3,4]],\n",
    "                   [[5,6],[7,8]]]) \n",
    "print(\"Tensor :\\n\",tensor)\n",
    "print(\"Dimensions :\\n\",tensor.ndim)\n",
    "\n",
    "\n"
   ]
  },
  {
   "cell_type": "markdown",
   "metadata": {},
   "source": [
    "### Array Properties "
   ]
  },
  {
   "cell_type": "code",
   "execution_count": null,
   "metadata": {},
   "outputs": [
    {
     "name": "stdout",
     "output_type": "stream",
     "text": [
      "Shape : (2, 3)\n",
      "Ndim : 2\n",
      "Size : 6\n",
      "Dtype : int64\n"
     ]
    }
   ],
   "source": [
    "arr = np.array([[1,2,3],\n",
    "                [4,5,6]])\n",
    "print(\"Shape :\",arr.shape) # No of rows and columns here (2,3)\n",
    "print(\"Ndim :\",arr.ndim) # returns the dimensions of array here (2)\n",
    "print(\"Size :\",arr.size) # returns the total no of elements in the array here (6)\n",
    "print(\"Dtype :\",arr.dtype) # returns the datatype of an array here (int64)"
   ]
  },
  {
   "cell_type": "markdown",
   "metadata": {},
   "source": [
    "### Array Reshaping"
   ]
  },
  {
   "cell_type": "code",
   "execution_count": 38,
   "metadata": {},
   "outputs": [
    {
     "name": "stdout",
     "output_type": "stream",
     "text": [
      "Original Array \n",
      " [ 0  1  2  3  4  5  6  7  8  9 10 11]\n",
      "Reshaped Array \n",
      " [[ 0  1  2  3]\n",
      " [ 4  5  6  7]\n",
      " [ 8  9 10 11]]\n",
      "Flattened Array \n",
      " [ 0  1  2  3  4  5  6  7  8  9 10 11]\n",
      "Raveled Array \n",
      " [ 0  1  2  3  4  5  6  7  8  9 10 11]\n",
      "transpose Array \n",
      " [[ 0  4  8]\n",
      " [ 1  5  9]\n",
      " [ 2  6 10]\n",
      " [ 3  7 11]]\n"
     ]
    }
   ],
   "source": [
    "arr = np.arange(12)\n",
    "print(\"Original Array \\n\", arr)\n",
    "reshaped = arr.reshape(3,4)\n",
    "print(\"Reshaped Array \\n\",reshaped)\n",
    "flattened = arr.flatten()\n",
    "print(\"Flattened Array \\n\",flattened)\n",
    "# (returns view means original, instead of copy)\n",
    "raveled = reshaped.ravel()\n",
    "print(\"Raveled Array \\n\",raveled)\n",
    "# Converts the matrices rows into columns (2x3) will converted to (3x2)\n",
    "transpose = reshaped.T\n",
    "print(\"transpose Array \\n\",transpose)\n",
    "\n",
    "\n"
   ]
  },
  {
   "cell_type": "markdown",
   "metadata": {},
   "source": []
  }
 ],
 "metadata": {
  "kernelspec": {
   "display_name": "myvenv",
   "language": "python",
   "name": "python3"
  },
  "language_info": {
   "codemirror_mode": {
    "name": "ipython",
    "version": 3
   },
   "file_extension": ".py",
   "mimetype": "text/x-python",
   "name": "python",
   "nbconvert_exporter": "python",
   "pygments_lexer": "ipython3",
   "version": "3.13.2"
  }
 },
 "nbformat": 4,
 "nbformat_minor": 2
}
